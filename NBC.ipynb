{
 "cells": [
  {
   "cell_type": "code",
   "execution_count": null,
   "metadata": {},
   "outputs": [],
   "source": [
    "import nltk\n",
    "from nltk.tokenize import word_tokenize\n",
    "from nltk.corpus import stopwords\n",
    "import pandas as pd\n",
    "import matplotlib.pyplot as plt\n",
    "import warnings\n",
    "warnings.filterwarnings('ignore')\n",
    "nltk.download('punkt_tab')\n",
    "nltk.download('stopwords')\n",
    "nltk.download('wordnet')\n",
    "from nltk.stem import WordNetLemmatizer\n",
    "from sklearn.feature_extraction.text import CountVectorizer\n",
    "from sklearn.model_selection import train_test_split\n",
    "from sklearn.naive_bayes import MultinomialNB, BernoulliNB, ComplementNB\n",
    "from sklearn.metrics import classification_report"
   ]
  },
  {
   "cell_type": "code",
   "execution_count": 38,
   "metadata": {},
   "outputs": [
    {
     "name": "stdout",
     "output_type": "stream",
     "text": [
      "  Category                                            Message\n",
      "0      ham  Go until jurong point, crazy.. Available only ...\n",
      "1      ham                      Ok lar... Joking wif u oni...\n",
      "2     spam  Free entry in 2 a wkly comp to win FA Cup fina...\n",
      "3      ham  U dun say so early hor... U c already then say...\n",
      "4      ham  Nah I don't think he goes to usf, he lives aro...\n"
     ]
    }
   ],
   "source": [
    "df = pd.read_csv('email.csv')\n",
    "print(df.head(5))"
   ]
  },
  {
   "cell_type": "code",
   "execution_count": 39,
   "metadata": {},
   "outputs": [
    {
     "data": {
      "image/png": "[encoded data removed]",
      "text/plain": [
       "<Figure size 640x480 with 1 Axes>"
      ]
     },
     "metadata": {},
     "output_type": "display_data"
    }
   ],
   "source": [
    "frequency = df['Category'].value_counts()\n",
    "values = list(set(df['Category'].to_list()))\n",
    "values = list(map(lambda x: str(x), values))\n",
    "plt.bar(values, frequency)\n",
    "plt.title('Category')\n",
    "plt.show()"
   ]
  },
  {
   "cell_type": "code",
   "execution_count": 40,
   "metadata": {},
   "outputs": [],
   "source": [
    "df = df[df['Category'] != '{\"mode\":\"full\"']"
   ]
  },
  {
   "cell_type": "code",
   "execution_count": 41,
   "metadata": {},
   "outputs": [],
   "source": [
    "def clean(sentence) :\n",
    "    message = sentence.lower()\n",
    "    message_arr = word_tokenize(message)\n",
    "    useful = [word for word in message_arr if word not in stopwords.words('english')]\n",
    "    lemmatizer = WordNetLemmatizer()\n",
    "    lemmatized_arr = list(map(lambda x: lemmatizer.lemmatize(x), useful))\n",
    "    return ' '.join(lemmatized_arr)\n"
   ]
  },
  {
   "cell_type": "code",
   "execution_count": 42,
   "metadata": {},
   "outputs": [],
   "source": [
    "messages = df['Message'].to_list()\n",
    "arr = list(map(lambda x: clean(x), messages))\n",
    "vectorizer = CountVectorizer()\n",
    "X = vectorizer.fit_transform(arr).toarray()\n",
    "Y = df['Category']\n",
    "x_train, x_test, y_train, y_test = train_test_split(X, Y, test_size=0.1, random_state=42)"
   ]
  },
  {
   "cell_type": "markdown",
   "metadata": {},
   "source": [
    "The following implementations of the naive Bayesian classifier are the most suitable for this task:\n",
    "1) Multinomial naive Bayesian classifier (MultinomialNB) is a variant for dealing with discrete features that have a multinomial distribution. Such features are often found in text classification tasks, where they represent the number of occurrences in a text.\n",
    "2) Complementary naive Bayesian classifier (ComplementNB) is an improved version of MultinomialNB, suitable for unbalanced datasets. Instead of estimating the probability of a feature given a class, the algorithm estimates the normalized feature weight for a class as the probability of the feature given the complement of the class, i.e., all other classes. Thus, the algorithm takes into account not only the frequency of features in a class but also their absence in other classes, making it less sensitive to sampling bias.\n",
    "3) Bernoulli naive Bayesian classifier (BernoulliNB) is another option for dealing with discrete features, but which have a Bernoulli distribution. In this case, features are binary indicators of the presence or absence of certain properties in an object. For example, in the task of text classification it can be the presence or absence of certain words in the text."
   ]
  },
  {
   "cell_type": "code",
   "execution_count": 43,
   "metadata": {},
   "outputs": [
    {
     "name": "stdout",
     "output_type": "stream",
     "text": [
      "              precision    recall  f1-score   support\n",
      "\n",
      "         ham       0.99      0.99      0.99       484\n",
      "        spam       0.93      0.92      0.93        74\n",
      "\n",
      "    accuracy                           0.98       558\n",
      "   macro avg       0.96      0.95      0.96       558\n",
      "weighted avg       0.98      0.98      0.98       558\n",
      "\n"
     ]
    }
   ],
   "source": [
    "nbc = MultinomialNB()\n",
    "nbc.fit(x_train, y_train)\n",
    "y_predicted = nbc.predict(x_test)\n",
    "print(classification_report(y_predicted, y_test))"
   ]
  },
  {
   "cell_type": "code",
   "execution_count": 44,
   "metadata": {},
   "outputs": [
    {
     "name": "stdout",
     "output_type": "stream",
     "text": [
      "              precision    recall  f1-score   support\n",
      "\n",
      "         ham       1.00      0.98      0.99       494\n",
      "        spam       0.86      0.98      0.92        64\n",
      "\n",
      "    accuracy                           0.98       558\n",
      "   macro avg       0.93      0.98      0.95       558\n",
      "weighted avg       0.98      0.98      0.98       558\n",
      "\n"
     ]
    }
   ],
   "source": [
    "nbc = BernoulliNB()\n",
    "nbc.fit(x_train, y_train)\n",
    "y_predicted = nbc.predict(x_test)\n",
    "print(classification_report(y_predicted, y_test))"
   ]
  },
  {
   "cell_type": "code",
   "execution_count": 45,
   "metadata": {},
   "outputs": [
    {
     "name": "stdout",
     "output_type": "stream",
     "text": [
      "              precision    recall  f1-score   support\n",
      "\n",
      "         ham       0.94      0.99      0.97       460\n",
      "        spam       0.96      0.71      0.82        98\n",
      "\n",
      "    accuracy                           0.94       558\n",
      "   macro avg       0.95      0.85      0.89       558\n",
      "weighted avg       0.95      0.94      0.94       558\n",
      "\n"
     ]
    }
   ],
   "source": [
    "nbc = ComplementNB()\n",
    "nbc.fit(x_train, y_train)\n",
    "y_predicted = nbc.predict(x_test)\n",
    "print(classification_report(y_predicted, y_test))"
   ]
  },
  {
   "cell_type": "markdown",
   "metadata": {},
   "source": [
    "As a result, the Multinomial NB algorithm showed the best result"
   ]
  }
 ],
 "metadata": {
  "kernelspec": {
   "display_name": ".venv",
   "language": "python",
   "name": "python3"
  },
  "language_info": {
   "codemirror_mode": {
    "name": "ipython",
    "version": 3
   },
   "file_extension": ".py",
   "mimetype": "text/x-python",
   "name": "python",
   "nbconvert_exporter": "python",
   "pygments_lexer": "ipython3",
   "version": "3.12.3"
  }
 },
 "nbformat": 4,
 "nbformat_minor": 2
}
